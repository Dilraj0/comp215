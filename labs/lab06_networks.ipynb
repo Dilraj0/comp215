{
  "nbformat": 4,
  "nbformat_minor": 0,
  "metadata": {
    "kernelspec": {
      "display_name": "Python 3.8.3 32-bit",
      "language": "python",
      "name": "python_defaultSpec_1593786317828"
    },
    "language_info": {
      "codemirror_mode": {
        "name": "ipython",
        "version": 3
      },
      "file_extension": ".py",
      "mimetype": "text/x-python",
      "name": "python",
      "nbconvert_exporter": "python",
      "pygments_lexer": "ipython3",
      "version": "3.7.6"
    },
    "colab": {
      "provenance": [],
      "include_colab_link": true
    }
  },
  "cells": [
    {
      "cell_type": "markdown",
      "metadata": {
        "id": "view-in-github",
        "colab_type": "text"
      },
      "source": [
        "<a href=\"https://colab.research.google.com/github/Dilraj0/comp215/blob/main/labs/lab06_networks.ipynb\" target=\"_parent\"><img src=\"https://colab.research.google.com/assets/colab-badge.svg\" alt=\"Open In Colab\"/></a>"
      ]
    },
    {
      "cell_type": "markdown",
      "source": [
        "COMP 215 - LAB 6\n",
        "----------------\n",
        "#### Name(s):\n",
        "#### Date:\n",
        "\n",
        "By the end of this lab you should be able to:\n",
        "  * create a Watts-Strogatz graph both from scratch and from the Networkx module\n",
        "  * measure the average clustering coefficient and path length of a network\n",
        "  * visualize summative data of a graph\n",
        "\n",
        "\n",
        "During this lab, you will be introduced to the following:\n",
        "  * numpy arrays\n",
        "  * local file i/o in Google Colab\n",
        "\n",
        "(this lab is based on workbooks provided in Allen Downey's 'Think Complexity')"
      ],
      "metadata": {
        "id": "PbDMwwMgFNX1"
      }
    },
    {
      "cell_type": "markdown",
      "metadata": {
        "id": "TJiS-F9RzzdV"
      },
      "source": [
        "## Social Networking\n",
        "\n",
        "This lab uses graphs to explore social networks using Facebook data.  In this lab you will create a simulated model of the network using a Watts-Strogatz graph and compare some properties of the simulated network and the real Facebook network."
      ]
    },
    {
      "cell_type": "code",
      "source": [
        "# put your imports here"
      ],
      "metadata": {
        "id": "xXutG9U4uFwC"
      },
      "execution_count": null,
      "outputs": []
    },
    {
      "cell_type": "code",
      "source": [
        "import numpy as np\n",
        "import networkx as nx\n",
        "import random\n",
        "from collections import deque"
      ],
      "metadata": {
        "id": "-WCMvBZiuIOV"
      },
      "execution_count": 46,
      "outputs": []
    },
    {
      "cell_type": "markdown",
      "metadata": {
        "id": "erejuo3kzzdV"
      },
      "source": [
        "## Get the Facebook Data\n",
        "\n",
        "Stanford Network Analysis Platform (SNAP) is a general purpose network analysis and graph mining library.  In previous labs, we have used APIs to access data.  For this lab, we will copy the data to a local file.  Download the ```facebook_combined.txt.gz``` file from [SNAP](https://snap.stanford.edu/data/egonets-Facebook.html), unzip it, and copy ```facebook_combined.txt``` to the ```Files``` folder in Colab.  \n",
        "\n",
        "Look at the content of the file and read the SNAP webpage to understand what the data represents before moving on to the rest of the lab."
      ]
    },
    {
      "cell_type": "markdown",
      "source": [
        "## Exercise 1: Make Facebook Graph\n",
        "\n",
        "Write a function that reads the file, one edge per line, specified by the two integer node IDs given in each line of the file and returns a ```networkx``` graph representing the data.  You can do this with Python's built-in file handling, or you could use ```numpy```'s ```loadtxt``` function.  Write a unit test to check that the network has 4039 nodes and 88234 edges (as given in the Dataset Statistics on the SNAP site) and draw the Facebook network (this takes about a minute).\n"
      ],
      "metadata": {
        "id": "Efqf1iZusG9l"
      }
    },
    {
      "cell_type": "code",
      "source": [
        "def read_facebook_graph_with_numpy(file_path):\n",
        "    G = nx.Graph()  # creating empty graph\n",
        "\n",
        "    data = np.loadtxt(file_path, dtype=int)\n",
        "    edges = (tuple(edge) for edge in data)  # loading files and converting into tuples\n",
        "\n",
        "    G.add_edges_from(edges)\n",
        "    return G\n",
        "\n",
        "# giving variable to file to use furthur\n",
        "file_path = \"/content/facebook_combined.txt\"\n",
        "\n",
        "# Creating the graph\n",
        "facebook_graph = read_facebook_graph_with_numpy(file_path)\n",
        "\n",
        "assert facebook_graph.number_of_nodes() == 4039\n",
        "assert facebook_graph.number_of_edges() == 88234\n",
        "\n",
        "print(f\"Facebook Graph Loaded!\")\n",
        "print(f\"Nodes: {facebook_graph.number_of_nodes()}, Edges: {facebook_graph.number_of_edges()}\")\n",
        "\n",
        "# Drawing the network of facebook\n",
        "plt.figure(figsize=(10, 8))\n",
        "pos = nx.spring_layout(facebook_graph, seed=42)  # Layout for visualization\n",
        "nx.draw(facebook_graph, pos, node_size=10, edge_color=\"black\")\n",
        "plt.title(\"Facebook Network Graph\", fontsize=14)\n",
        "plt.show()\n"
      ],
      "metadata": {
        "id": "bWXTcAS5tiA_",
        "colab": {
          "base_uri": "https://localhost:8080/",
          "height": 442
        },
        "outputId": "1166dcce-6ff6-4c36-8f8d-e70e20ac5cf4"
      },
      "execution_count": 4,
      "outputs": [
        {
          "output_type": "stream",
          "name": "stdout",
          "text": [
            "Facebook Graph Loaded!\n",
            "Nodes: 4039, Edges: 88234\n"
          ]
        },
        {
          "output_type": "error",
          "ename": "KeyboardInterrupt",
          "evalue": "",
          "traceback": [
            "\u001b[0;31m---------------------------------------------------------------------------\u001b[0m",
            "\u001b[0;31mKeyboardInterrupt\u001b[0m                         Traceback (most recent call last)",
            "\u001b[0;32m<ipython-input-4-648aac0a50dc>\u001b[0m in \u001b[0;36m<cell line: 0>\u001b[0;34m()\u001b[0m\n\u001b[1;32m     22\u001b[0m \u001b[0;31m# Drawing the network of facebook\u001b[0m\u001b[0;34m\u001b[0m\u001b[0;34m\u001b[0m\u001b[0m\n\u001b[1;32m     23\u001b[0m \u001b[0mplt\u001b[0m\u001b[0;34m.\u001b[0m\u001b[0mfigure\u001b[0m\u001b[0;34m(\u001b[0m\u001b[0mfigsize\u001b[0m\u001b[0;34m=\u001b[0m\u001b[0;34m(\u001b[0m\u001b[0;36m10\u001b[0m\u001b[0;34m,\u001b[0m \u001b[0;36m8\u001b[0m\u001b[0;34m)\u001b[0m\u001b[0;34m)\u001b[0m\u001b[0;34m\u001b[0m\u001b[0;34m\u001b[0m\u001b[0m\n\u001b[0;32m---> 24\u001b[0;31m \u001b[0mpos\u001b[0m \u001b[0;34m=\u001b[0m \u001b[0mnx\u001b[0m\u001b[0;34m.\u001b[0m\u001b[0mspring_layout\u001b[0m\u001b[0;34m(\u001b[0m\u001b[0mfacebook_graph\u001b[0m\u001b[0;34m,\u001b[0m \u001b[0mseed\u001b[0m\u001b[0;34m=\u001b[0m\u001b[0;36m42\u001b[0m\u001b[0;34m)\u001b[0m  \u001b[0;31m# Layout for visualization\u001b[0m\u001b[0;34m\u001b[0m\u001b[0;34m\u001b[0m\u001b[0m\n\u001b[0m\u001b[1;32m     25\u001b[0m \u001b[0mnx\u001b[0m\u001b[0;34m.\u001b[0m\u001b[0mdraw\u001b[0m\u001b[0;34m(\u001b[0m\u001b[0mfacebook_graph\u001b[0m\u001b[0;34m,\u001b[0m \u001b[0mpos\u001b[0m\u001b[0;34m,\u001b[0m \u001b[0mnode_size\u001b[0m\u001b[0;34m=\u001b[0m\u001b[0;36m10\u001b[0m\u001b[0;34m,\u001b[0m \u001b[0medge_color\u001b[0m\u001b[0;34m=\u001b[0m\u001b[0;34m\"black\"\u001b[0m\u001b[0;34m)\u001b[0m\u001b[0;34m\u001b[0m\u001b[0;34m\u001b[0m\u001b[0m\n\u001b[1;32m     26\u001b[0m \u001b[0mplt\u001b[0m\u001b[0;34m.\u001b[0m\u001b[0mtitle\u001b[0m\u001b[0;34m(\u001b[0m\u001b[0;34m\"Facebook Network Graph\"\u001b[0m\u001b[0;34m,\u001b[0m \u001b[0mfontsize\u001b[0m\u001b[0;34m=\u001b[0m\u001b[0;36m14\u001b[0m\u001b[0;34m)\u001b[0m\u001b[0;34m\u001b[0m\u001b[0;34m\u001b[0m\u001b[0m\n",
            "\u001b[0;32m/usr/local/lib/python3.11/dist-packages/networkx/utils/decorators.py\u001b[0m in \u001b[0;36mfunc\u001b[0;34m(_argmap__wrapper, *args, **kwargs)\u001b[0m\n\u001b[1;32m    786\u001b[0m \u001b[0;34m\u001b[0m\u001b[0m\n\u001b[1;32m    787\u001b[0m         \u001b[0;32mdef\u001b[0m \u001b[0mfunc\u001b[0m\u001b[0;34m(\u001b[0m\u001b[0;34m*\u001b[0m\u001b[0margs\u001b[0m\u001b[0;34m,\u001b[0m \u001b[0m__wrapper\u001b[0m\u001b[0;34m=\u001b[0m\u001b[0;32mNone\u001b[0m\u001b[0;34m,\u001b[0m \u001b[0;34m**\u001b[0m\u001b[0mkwargs\u001b[0m\u001b[0;34m)\u001b[0m\u001b[0;34m:\u001b[0m\u001b[0;34m\u001b[0m\u001b[0;34m\u001b[0m\u001b[0m\n\u001b[0;32m--> 788\u001b[0;31m             \u001b[0;32mreturn\u001b[0m \u001b[0margmap\u001b[0m\u001b[0;34m.\u001b[0m\u001b[0m_lazy_compile\u001b[0m\u001b[0;34m(\u001b[0m\u001b[0m__wrapper\u001b[0m\u001b[0;34m)\u001b[0m\u001b[0;34m(\u001b[0m\u001b[0;34m*\u001b[0m\u001b[0margs\u001b[0m\u001b[0;34m,\u001b[0m \u001b[0;34m**\u001b[0m\u001b[0mkwargs\u001b[0m\u001b[0;34m)\u001b[0m\u001b[0;34m\u001b[0m\u001b[0;34m\u001b[0m\u001b[0m\n\u001b[0m\u001b[1;32m    789\u001b[0m \u001b[0;34m\u001b[0m\u001b[0m\n\u001b[1;32m    790\u001b[0m         \u001b[0;31m# standard function-wrapping stuff\u001b[0m\u001b[0;34m\u001b[0m\u001b[0;34m\u001b[0m\u001b[0m\n",
            "\u001b[0;32m/usr/local/lib/python3.11/dist-packages/networkx/utils/decorators.py\u001b[0m in \u001b[0;36margmap_spring_layout_49\u001b[0;34m(G, k, pos, fixed, iterations, threshold, weight, scale, center, dim, seed)\u001b[0m\n\u001b[1;32m      2\u001b[0m \u001b[0;32mimport\u001b[0m \u001b[0mcollections\u001b[0m\u001b[0;34m\u001b[0m\u001b[0;34m\u001b[0m\u001b[0m\n\u001b[1;32m      3\u001b[0m \u001b[0;32mimport\u001b[0m \u001b[0mgzip\u001b[0m\u001b[0;34m\u001b[0m\u001b[0;34m\u001b[0m\u001b[0m\n\u001b[0;32m----> 4\u001b[0;31m \u001b[0;32mimport\u001b[0m \u001b[0minspect\u001b[0m\u001b[0;34m\u001b[0m\u001b[0;34m\u001b[0m\u001b[0m\n\u001b[0m\u001b[1;32m      5\u001b[0m \u001b[0;32mimport\u001b[0m \u001b[0mitertools\u001b[0m\u001b[0;34m\u001b[0m\u001b[0;34m\u001b[0m\u001b[0m\n\u001b[1;32m      6\u001b[0m \u001b[0;32mimport\u001b[0m \u001b[0mre\u001b[0m\u001b[0;34m\u001b[0m\u001b[0;34m\u001b[0m\u001b[0m\n",
            "\u001b[0;32m/usr/local/lib/python3.11/dist-packages/networkx/drawing/layout.py\u001b[0m in \u001b[0;36mspring_layout\u001b[0;34m(G, k, pos, fixed, iterations, threshold, weight, scale, center, dim, seed)\u001b[0m\n\u001b[1;32m    484\u001b[0m             \u001b[0mnnodes\u001b[0m\u001b[0;34m,\u001b[0m \u001b[0m_\u001b[0m \u001b[0;34m=\u001b[0m \u001b[0mA\u001b[0m\u001b[0;34m.\u001b[0m\u001b[0mshape\u001b[0m\u001b[0;34m\u001b[0m\u001b[0;34m\u001b[0m\u001b[0m\n\u001b[1;32m    485\u001b[0m             \u001b[0mk\u001b[0m \u001b[0;34m=\u001b[0m \u001b[0mdom_size\u001b[0m \u001b[0;34m/\u001b[0m \u001b[0mnp\u001b[0m\u001b[0;34m.\u001b[0m\u001b[0msqrt\u001b[0m\u001b[0;34m(\u001b[0m\u001b[0mnnodes\u001b[0m\u001b[0;34m)\u001b[0m\u001b[0;34m\u001b[0m\u001b[0;34m\u001b[0m\u001b[0m\n\u001b[0;32m--> 486\u001b[0;31m         pos = _sparse_fruchterman_reingold(\n\u001b[0m\u001b[1;32m    487\u001b[0m             \u001b[0mA\u001b[0m\u001b[0;34m,\u001b[0m \u001b[0mk\u001b[0m\u001b[0;34m,\u001b[0m \u001b[0mpos_arr\u001b[0m\u001b[0;34m,\u001b[0m \u001b[0mfixed\u001b[0m\u001b[0;34m,\u001b[0m \u001b[0miterations\u001b[0m\u001b[0;34m,\u001b[0m \u001b[0mthreshold\u001b[0m\u001b[0;34m,\u001b[0m \u001b[0mdim\u001b[0m\u001b[0;34m,\u001b[0m \u001b[0mseed\u001b[0m\u001b[0;34m\u001b[0m\u001b[0;34m\u001b[0m\u001b[0m\n\u001b[1;32m    488\u001b[0m         )\n",
            "\u001b[0;32m/usr/local/lib/python3.11/dist-packages/networkx/utils/decorators.py\u001b[0m in \u001b[0;36mfunc\u001b[0;34m(_argmap__wrapper, *args, **kwargs)\u001b[0m\n\u001b[1;32m    786\u001b[0m \u001b[0;34m\u001b[0m\u001b[0m\n\u001b[1;32m    787\u001b[0m         \u001b[0;32mdef\u001b[0m \u001b[0mfunc\u001b[0m\u001b[0;34m(\u001b[0m\u001b[0;34m*\u001b[0m\u001b[0margs\u001b[0m\u001b[0;34m,\u001b[0m \u001b[0m__wrapper\u001b[0m\u001b[0;34m=\u001b[0m\u001b[0;32mNone\u001b[0m\u001b[0;34m,\u001b[0m \u001b[0;34m**\u001b[0m\u001b[0mkwargs\u001b[0m\u001b[0;34m)\u001b[0m\u001b[0;34m:\u001b[0m\u001b[0;34m\u001b[0m\u001b[0;34m\u001b[0m\u001b[0m\n\u001b[0;32m--> 788\u001b[0;31m             \u001b[0;32mreturn\u001b[0m \u001b[0margmap\u001b[0m\u001b[0;34m.\u001b[0m\u001b[0m_lazy_compile\u001b[0m\u001b[0;34m(\u001b[0m\u001b[0m__wrapper\u001b[0m\u001b[0;34m)\u001b[0m\u001b[0;34m(\u001b[0m\u001b[0;34m*\u001b[0m\u001b[0margs\u001b[0m\u001b[0;34m,\u001b[0m \u001b[0;34m**\u001b[0m\u001b[0mkwargs\u001b[0m\u001b[0;34m)\u001b[0m\u001b[0;34m\u001b[0m\u001b[0;34m\u001b[0m\u001b[0m\n\u001b[0m\u001b[1;32m    789\u001b[0m \u001b[0;34m\u001b[0m\u001b[0m\n\u001b[1;32m    790\u001b[0m         \u001b[0;31m# standard function-wrapping stuff\u001b[0m\u001b[0;34m\u001b[0m\u001b[0;34m\u001b[0m\u001b[0m\n",
            "\u001b[0;32m/usr/local/lib/python3.11/dist-packages/networkx/utils/decorators.py\u001b[0m in \u001b[0;36margmap__sparse_fruchterman_reingold_57\u001b[0;34m(A, k, pos, fixed, iterations, threshold, dim, seed)\u001b[0m\n\u001b[1;32m      2\u001b[0m \u001b[0;32mimport\u001b[0m \u001b[0mcollections\u001b[0m\u001b[0;34m\u001b[0m\u001b[0;34m\u001b[0m\u001b[0m\n\u001b[1;32m      3\u001b[0m \u001b[0;32mimport\u001b[0m \u001b[0mgzip\u001b[0m\u001b[0;34m\u001b[0m\u001b[0;34m\u001b[0m\u001b[0m\n\u001b[0;32m----> 4\u001b[0;31m \u001b[0;32mimport\u001b[0m \u001b[0minspect\u001b[0m\u001b[0;34m\u001b[0m\u001b[0;34m\u001b[0m\u001b[0m\n\u001b[0m\u001b[1;32m      5\u001b[0m \u001b[0;32mimport\u001b[0m \u001b[0mitertools\u001b[0m\u001b[0;34m\u001b[0m\u001b[0;34m\u001b[0m\u001b[0m\n\u001b[1;32m      6\u001b[0m \u001b[0;32mimport\u001b[0m \u001b[0mre\u001b[0m\u001b[0;34m\u001b[0m\u001b[0;34m\u001b[0m\u001b[0m\n",
            "\u001b[0;32m/usr/local/lib/python3.11/dist-packages/networkx/drawing/layout.py\u001b[0m in \u001b[0;36m_sparse_fruchterman_reingold\u001b[0;34m(A, k, pos, fixed, iterations, threshold, dim, seed)\u001b[0m\n\u001b[1;32m    627\u001b[0m             displacement[:, i] += (\n\u001b[1;32m    628\u001b[0m                 \u001b[0mdelta\u001b[0m \u001b[0;34m*\u001b[0m \u001b[0;34m(\u001b[0m\u001b[0mk\u001b[0m \u001b[0;34m*\u001b[0m \u001b[0mk\u001b[0m \u001b[0;34m/\u001b[0m \u001b[0mdistance\u001b[0m\u001b[0;34m**\u001b[0m\u001b[0;36m2\u001b[0m \u001b[0;34m-\u001b[0m \u001b[0mAi\u001b[0m \u001b[0;34m*\u001b[0m \u001b[0mdistance\u001b[0m \u001b[0;34m/\u001b[0m \u001b[0mk\u001b[0m\u001b[0;34m)\u001b[0m\u001b[0;34m\u001b[0m\u001b[0;34m\u001b[0m\u001b[0m\n\u001b[0;32m--> 629\u001b[0;31m             ).sum(axis=1)\n\u001b[0m\u001b[1;32m    630\u001b[0m         \u001b[0;31m# update positions\u001b[0m\u001b[0;34m\u001b[0m\u001b[0;34m\u001b[0m\u001b[0m\n\u001b[1;32m    631\u001b[0m         \u001b[0mlength\u001b[0m \u001b[0;34m=\u001b[0m \u001b[0mnp\u001b[0m\u001b[0;34m.\u001b[0m\u001b[0msqrt\u001b[0m\u001b[0;34m(\u001b[0m\u001b[0;34m(\u001b[0m\u001b[0mdisplacement\u001b[0m\u001b[0;34m**\u001b[0m\u001b[0;36m2\u001b[0m\u001b[0;34m)\u001b[0m\u001b[0;34m.\u001b[0m\u001b[0msum\u001b[0m\u001b[0;34m(\u001b[0m\u001b[0maxis\u001b[0m\u001b[0;34m=\u001b[0m\u001b[0;36m0\u001b[0m\u001b[0;34m)\u001b[0m\u001b[0;34m)\u001b[0m\u001b[0;34m\u001b[0m\u001b[0;34m\u001b[0m\u001b[0m\n",
            "\u001b[0;32m/usr/local/lib/python3.11/dist-packages/numpy/core/_methods.py\u001b[0m in \u001b[0;36m_sum\u001b[0;34m(a, axis, dtype, out, keepdims, initial, where)\u001b[0m\n\u001b[1;32m     47\u001b[0m def _sum(a, axis=None, dtype=None, out=None, keepdims=False,\n\u001b[1;32m     48\u001b[0m          initial=_NoValue, where=True):\n\u001b[0;32m---> 49\u001b[0;31m     \u001b[0;32mreturn\u001b[0m \u001b[0mumr_sum\u001b[0m\u001b[0;34m(\u001b[0m\u001b[0ma\u001b[0m\u001b[0;34m,\u001b[0m \u001b[0maxis\u001b[0m\u001b[0;34m,\u001b[0m \u001b[0mdtype\u001b[0m\u001b[0;34m,\u001b[0m \u001b[0mout\u001b[0m\u001b[0;34m,\u001b[0m \u001b[0mkeepdims\u001b[0m\u001b[0;34m,\u001b[0m \u001b[0minitial\u001b[0m\u001b[0;34m,\u001b[0m \u001b[0mwhere\u001b[0m\u001b[0;34m)\u001b[0m\u001b[0;34m\u001b[0m\u001b[0;34m\u001b[0m\u001b[0m\n\u001b[0m\u001b[1;32m     50\u001b[0m \u001b[0;34m\u001b[0m\u001b[0m\n\u001b[1;32m     51\u001b[0m def _prod(a, axis=None, dtype=None, out=None, keepdims=False,\n",
            "\u001b[0;31mKeyboardInterrupt\u001b[0m: "
          ]
        },
        {
          "output_type": "display_data",
          "data": {
            "text/plain": [
              "<Figure size 1000x800 with 0 Axes>"
            ]
          },
          "metadata": {}
        }
      ]
    },
    {
      "cell_type": "markdown",
      "metadata": {
        "id": "OXPh29uSzzde"
      },
      "source": [
        "## Exercise 2: Clustering Coefficients\n",
        "\n",
        "With larger graphs, it can take a long time to compute clustering coefficients and path lengths. We can estimate them by sampling without much loss of accuracy if the sample size is large enough.  Write a function that calculates the average clustering coeffient for a random subset of a N nodes in a network.  You may use the ```node_clustering``` and ```all_pairs``` functions from Chapter 5 of the textbook.  You may also use the ```numpy``` module to calculate the mean; note that there is a ```nanmean``` function.\n",
        "\n",
        "Check that your clustering coeffients function gives a similar answer to the ```networkx``` ```average_clustering``` function.\n"
      ]
    },
    {
      "cell_type": "code",
      "source": [
        "# creating a function\n",
        "def sample_clustering_coefficient(G, N=100):\n",
        "\n",
        "    sample_nodes = random.sample(list(G.nodes()), min(N, len(G)))  # Sample N nodes\n",
        "    clustering_values = [nx.clustering(G, node) for node in sample_nodes]  # Compute clustering coefficient for each\n",
        "    return np.nanmean(clustering_values)  # Average clustering coefficient\n",
        "\n",
        "# Loading the facebook data\n",
        "file_path = \"/content/facebook_combined.txt\"\n",
        "def load_facebook_graph(file_path):\n",
        "    return nx.read_edgelist(file_path, nodetype=int)\n",
        "\n",
        "# we can also use nx inbuild function so we can compare it after\n",
        "def compare_clustering(G, N=100):\n",
        "    sample_avg = sample_clustering_coefficient(G, N)\n",
        "    networkx_avg = nx.average_clustering(G)\n",
        "\n",
        "    print(f\"Sampled Clustering Coefficient (N={N}): {sample_avg:.4f}\")\n",
        "    print(f\"NetworkX Average Clustering Coefficient: {networkx_avg:.4f}\")\n",
        "\n",
        "file_path = \"/content/facebook_combined.txt\"\n",
        "G = load_facebook_graph(file_path)\n",
        "compare_clustering(G, N=1000)"
      ],
      "metadata": {
        "id": "4ECxHRHA38GQ",
        "colab": {
          "base_uri": "https://localhost:8080/"
        },
        "outputId": "8a4e0dc6-58bd-4fa1-cd5c-cf63775c8531"
      },
      "execution_count": 52,
      "outputs": [
        {
          "output_type": "stream",
          "name": "stdout",
          "text": [
            "Sampled Clustering Coefficient (N=1000): 0.6052\n",
            "NetworkX Average Clustering Coefficient: 0.6055\n",
            "Difference: 0.0003\n"
          ]
        }
      ]
    },
    {
      "cell_type": "markdown",
      "metadata": {
        "id": "QTTwpgCqzzdi"
      },
      "source": [
        "## Exercise 3: Average Shortest Path Length\n",
        "\n",
        "Write a function that calculates the average shortest path length for all pairs of nodes in a network.  You may use the ```shortest_path_dijkstra``` function from Chapter 5 of the textbook.  Using that function, it took my algorithm about 2 minutes to find the average shortest path over all pairs of nodes.\n",
        "\n",
        "\n",
        "Check that your average shortest path length function gives a similar answer to the ```networkx``` ```average_shortest_path_length``` function.\n"
      ]
    },
    {
      "cell_type": "code",
      "source": [
        "def exact_average_shortest_path(G):\n",
        "    return nx.average_shortest_path_length(G)\n",
        "\n",
        "#creating function to estimate shortest path\n",
        "def sample_path_lengths(G, nodes=None, trials=100):\n",
        "    \"\"\"Choose random pairs of nodes and compute the path length between them.\n",
        "    G: Graph\n",
        "    N: number of pairs to choose\n",
        "    returns: list of path lengths\n",
        "    \"\"\"\n",
        "    if nodes is None:\n",
        "        nodes = list(G)\n",
        "    else:\n",
        "        nodes = list(nodes)\n",
        "\n",
        "    pairs = np.random.choice(nodes, (trials, 2))  # Random pairs\n",
        "    lengths = [nx.shortest_path_length(G, *pair) for pair in pairs]\n",
        "    return lengths\n",
        "\n",
        "def estimate_path_length(G, nodes=None, trials=1000):\n",
        "    return np.mean(sample_path_lengths(G, nodes, trials))\n",
        "\n",
        "# Loading Facebook Graph\n",
        "def load_facebook_graph(file_path):\n",
        "    return nx.read_edgelist(file_path, nodetype=int)\n",
        "\n",
        "def compare_path_length(G, trials=1000):\n",
        "    estimated_avg = estimate_path_length(G, trials=trials)\n",
        "    exact_avg = nx.average_shortest_path_length(G)\n",
        "\n",
        "    print(f\"Estimated Average Shortest Path Length (Trials={trials}): {estimated_avg:.4f}\")\n",
        "    print(f\"Exact NetworkX Average Shortest Path Length: {exact_avg:.4f}\")\n",
        "\n",
        "file_path = \"/content/facebook_combined.txt\"  #file path\n",
        "G = load_facebook_graph(file_path)\n",
        "compare_path_length(G, trials=1000)\n"
      ],
      "metadata": {
        "id": "mjUys_tj6xV2",
        "colab": {
          "base_uri": "https://localhost:8080/"
        },
        "outputId": "0fc21af2-b765-4e5c-d432-656192f19d17"
      },
      "execution_count": 53,
      "outputs": [
        {
          "output_type": "stream",
          "name": "stdout",
          "text": [
            "Estimated Average Shortest Path Length (Trials=1000): 3.7410\n",
            "Exact NetworkX Average Shortest Path Length: 3.6925\n"
          ]
        }
      ]
    },
    {
      "cell_type": "markdown",
      "source": [
        "Here is a function from the textbook that takes a sample of path lengths to estimate the average shortest path length.  You may use this in the rest of the lab so that you don't need to wait for the whole full averaging algorithms above to run."
      ],
      "metadata": {
        "id": "sBkY9Y2RRPA8"
      }
    },
    {
      "cell_type": "code",
      "metadata": {
        "id": "hhco0N1Wzzdj"
      },
      "source": [
        "\n",
        "def sample_path_lengths(G, nodes=None, trials=100):\n",
        "    \"\"\"Choose random pairs of nodes and compute the path length between them.\n",
        "    G: Graph\n",
        "    N: number of pairs to choose\n",
        "    returns: list of path lengths\n",
        "    \"\"\"\n",
        "    if nodes is None:\n",
        "        nodes = list(G)\n",
        "    else:\n",
        "        nodes = list(nodes)\n",
        "\n",
        "    pairs = np.random.choice(nodes, (trials, 2))\n",
        "    lengths = [nx.shortest_path_length(G, *pair)\n",
        "               for pair in pairs]\n",
        "    return lengths\n",
        "\n",
        "def estimate_path_length(G, nodes=None, trials=1000):\n",
        "    return np.mean(sample_path_lengths(G, nodes, trials))"
      ],
      "execution_count": null,
      "outputs": []
    },
    {
      "cell_type": "markdown",
      "source": [
        "In the exercises above, you should have found that the Facebook network has an average clustering coefficient around 0.6 and an average shortest path length of around 3.7. Note that this corresponds to a 'degree of separation' of less than 6.   "
      ],
      "metadata": {
        "id": "mwX8KqjbRumD"
      }
    },
    {
      "cell_type": "markdown",
      "metadata": {
        "id": "m4eI_fYczzds"
      },
      "source": [
        "## Exercise 4: WS Graph\n",
        "\n",
        "Construct a WS graph with the same number of nodes and average degree as the Facebook network using the ```make_ws_graph``` function from Chapter 5.  Find the value of p (probability of rewire) that reproduces a clustering coefficient and average shortest path length of the Facebook network.  (Note that there is a ```nx.watts_strogatz_graph``` that you may use after you have demonstrated that you can create a WS graph using the functions from Chapter 5.).\n",
        "\n",
        "What could this value of p tell you about the actual social network that this Facebook data represents?  (Think about what p means in the model and what that would represent in the data.)"
      ]
    },
    {
      "cell_type": "code",
      "source": [
        "#accessing the facebook graph\n",
        "edges = np.loadtxt(\"f/content/facebook_combined.txt\", dtype=int)\n",
        "G_facebook = nx.Graph()\n",
        "G_facebook.add_edges_from(edges)\n",
        "\n",
        "# cluster and avg shortest length\n",
        "clustering_facebook = nx.average_clustering(G_facebook)\n",
        "avg_shortest_path_facebook = nx.average_shortest_path_length(G_facebook)\n",
        "\n",
        "n = len(G_facebook.nodes())\n",
        "k = int(np.mean([deg for _, deg in G_facebook.degree()]))\n",
        "\n",
        "best_p = None\n",
        "min_diff = float('inf')\n",
        "\n",
        "for p in np.linspace(0, 1, 100):\n",
        "    G_ws = nx.watts_strogatz_graph(n, k, p)  # Create the WS graph with this p\n",
        "    clustering_ws = nx.average_clustering(G_ws)\n",
        "    avg_shortest_path_ws = nx.average_shortest_path_length(G_ws)\n",
        "\n",
        "    # Calculate the difference between Facebook and WS graph properties\n",
        "    diff = abs(clustering_ws - clustering_facebook) + abs(avg_shortest_path_ws - avg_shortest_path_facebook)\n",
        "\n",
        "    # Track the best p (closest match)\n",
        "    if diff < min_diff:\n",
        "        min_diff = diff\n",
        "        best_p = p\n",
        "\n",
        "# getting output\n",
        "print(f\"The best p value is: {best_p}\")\n",
        "\n",
        "plt.figure(figsize=(10, 5))\n",
        "plt.subplot(1, 2, 1)\n",
        "plt.plot(p_values, clustering_ws_values)\n",
        "plt.xlabel(\"Rewiring Probability (p)\")\n",
        "plt.ylabel(\"Clustering Coefficient\")\n",
        "\n",
        "plt.subplot(1, 2, 2)\n",
        "plt.plot(p_values, avg_shortest_path_ws_values)\n",
        "plt.xlabel(\"Rewiring Probability (p)\")\n",
        "plt.ylabel(\"Average Shortest Path Length\")\n",
        "\n",
        "plt.tight_layout()\n",
        "plt.show()\n"
      ],
      "metadata": {
        "id": "1lQ149MrVHhX"
      },
      "execution_count": null,
      "outputs": []
    }
  ]
}