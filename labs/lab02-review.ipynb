{
  "nbformat": 4,
  "nbformat_minor": 0,
  "metadata": {
    "kernelspec": {
      "display_name": "Python 3",
      "language": "python",
      "name": "python3"
    },
    "language_info": {
      "codemirror_mode": {
        "name": "ipython",
        "version": 2
      },
      "file_extension": ".py",
      "mimetype": "text/x-python",
      "name": "python",
      "nbconvert_exporter": "python",
      "pygments_lexer": "ipython2",
      "version": "2.7.6"
    },
    "colab": {
      "provenance": [],
      "include_colab_link": true
    }
  },
  "cells": [
    {
      "cell_type": "markdown",
      "metadata": {
        "id": "view-in-github",
        "colab_type": "text"
      },
      "source": [
        "<a href=\"https://colab.research.google.com/github/Dilraj0/comp215/blob/main/labs/lab02-review.ipynb\" target=\"_parent\"><img src=\"https://colab.research.google.com/assets/colab-badge.svg\" alt=\"Open In Colab\"/></a>"
      ]
    },
    {
      "cell_type": "markdown",
      "source": [
        "COMP 215 - LAB 2\n",
        "----------------\n",
        "#### Name(s):\n",
        "#### Date:\n",
        "\n",
        "By the end of this lab you should be able to:\n",
        "  * use strings, tuples, lists, and dictionaries (review)\n",
        "  * use *f-string* to simplify string formatting operations\n",
        "  * write functions and simple unit tests (review)\n",
        "  * use *list comprehension* to implement map and filter algorithms\n",
        "\n",
        "\n",
        "During this lab, you will be introduced to the following:\n",
        "  * API Keys\n",
        "  * JSON data formats\n",
        "  * the `datetime` module to represent dates and times\n",
        "  * the `pprint` module to format data structures"
      ],
      "metadata": {
        "id": "nbRPZPKZU5Pk"
      }
    },
    {
      "cell_type": "markdown",
      "source": [
        "## Near Earth Objects\n",
        "\n",
        "In this lab, we'll answer some questions about [Near Earth Objects](https://cneos.jpl.nasa.gov/) using NASA's API:  [https://api.nasa.gov/](https://api.nasa.gov/#NeoWS).  But, as usual, let's do the imports first.\n"
      ],
      "metadata": {
        "id": "UtWS08rgocwz"
      }
    },
    {
      "cell_type": "code",
      "execution_count": null,
      "outputs": [],
      "source": [
        "import datetime, json, requests\n",
        "from pprint import pprint    # Pretty Print - built-in python function to nicely format data structures"
      ],
      "metadata": {
        "pycharm": {
          "name": "#%%\n"
        },
        "ExecuteTime": {
          "end_time": "2024-01-04T04:05:38.688434Z",
          "start_time": "2024-01-04T04:05:38.640552Z"
        },
        "id": "uckgiW6LmxA_"
      }
    },
    {
      "cell_type": "markdown",
      "source": [
        "### dates & f-strings\n",
        "\n",
        "First we need a short tutorial on python dates and [f-strings](https://realpython.com/python-f-strings/)..."
      ],
      "metadata": {
        "collapsed": false,
        "pycharm": {
          "name": "#%% md\n"
        },
        "id": "z7R9AVbYmxBA"
      }
    },
    {
      "cell_type": "code",
      "execution_count": null,
      "outputs": [
        {
          "output_type": "stream",
          "name": "stdout",
          "text": [
            "2025-01-15 <class 'datetime.date'>\n",
            "Today is: 2025-01-15\n"
          ]
        }
      ],
      "source": [
        "today = datetime.date.today()   # get a date object representing today's date\n",
        "print(today, type(today))\n",
        "formatted_date = f'Today is: {today}'   # A format string - notice how the variable `today` is formatted into the string\n",
        "print(formatted_date)"
      ],
      "metadata": {
        "pycharm": {
          "name": "#%%\n"
        },
        "ExecuteTime": {
          "end_time": "2024-01-04T04:05:38.691283Z",
          "start_time": "2024-01-04T04:05:38.688366Z"
        },
        "colab": {
          "base_uri": "https://localhost:8080/"
        },
        "id": "FIqwOe5SmxBA",
        "outputId": "1018f19a-45c4-4c89-e305-aae000871624"
      }
    },
    {
      "cell_type": "markdown",
      "source": [
        "### Make an API Query\n",
        "\n",
        "Let's get some data from the NEO database; here's a query that gets the observation \"feed\" for today.  Notice the first line of the block is an 'API key'.  An API key is a unique identifier that authenticates a user when making a request to an API.  Run the block below using the API key 'DEMO_KEY' (just to be sure it works), then go to https://api.nasa.gov and get your own API key.  Use your own API key for the remainder of the lab."
      ],
      "metadata": {
        "collapsed": false,
        "pycharm": {
          "name": "#%% md\n"
        },
        "id": "NyY93KiOmxBB"
      }
    },
    {
      "cell_type": "code",
      "execution_count": 13,
      "outputs": [
        {
          "output_type": "stream",
          "name": "stdout",
          "text": [
            "14 Near Earth Objects found for 2023-01-09\n",
            "[{'absolute_magnitude_h': 19.62,\n",
            "  'close_approach_data': [{'close_approach_date': '2023-01-09',\n",
            "                           'close_approach_date_full': '2023-Jan-09 13:59',\n",
            "                           'epoch_date_close_approach': 1673272740000,\n",
            "                           'miss_distance': {'astronomical': '0.0725378623',\n",
            "                                             'kilometers': '10851509.694433301',\n",
            "                                             'lunar': '28.2172284347',\n",
            "                                             'miles': '6742815.4556135138'},\n",
            "                           'orbiting_body': 'Earth',\n",
            "                           'relative_velocity': {'kilometers_per_hour': '32387.3479203461',\n",
            "                                                 'kilometers_per_second': '8.9964855334',\n",
            "                                                 'miles_per_hour': '20124.2384897284'}}],\n",
            "  'estimated_diameter': {'feet': {'estimated_diameter_max': 2322.8706681664,\n",
            "                                  'estimated_diameter_min': 1038.8193433921},\n",
            "                         'kilometers': {'estimated_diameter_max': 0.708010957,\n",
            "                                        'estimated_diameter_min': 0.3166321257},\n",
            "                         'meters': {'estimated_diameter_max': 708.0109570008,\n",
            "                                    'estimated_diameter_min': 316.6321257337},\n",
            "                         'miles': {'estimated_diameter_max': 0.4399374764,\n",
            "                                   'estimated_diameter_min': 0.1967460206}},\n",
            "  'id': '2226554',\n",
            "  'is_potentially_hazardous_asteroid': True,\n",
            "  'is_sentry_object': False,\n",
            "  'links': {'self': 'http://api.nasa.gov/neo/rest/v1/neo/2226554?api_key=DEMO_KEY'},\n",
            "  'name': '226554 (2003 WR21)',\n",
            "  'nasa_jpl_url': 'https://ssd.jpl.nasa.gov/tools/sbdb_lookup.html#/?sstr=2226554',\n",
            "  'neo_reference_id': '2226554'}]\n"
          ]
        }
      ],
      "source": [
        "API_KEY = 'DEMO_KEY'  # substitute your API key here\n",
        "\n",
        "# get today's date (as a string)\n",
        "#today = str(datetime.date.today())\n",
        "today = '2023-01-09'\n",
        "\n",
        "# use an f-string to \"format\" the date and API key varaibles.\n",
        "url = f'https://api.nasa.gov/neo/rest/v1/feed?start_date={today}&end_date={today}&api_key={API_KEY}'\n",
        "\n",
        "# make the API request (recall from lab 1)\n",
        "response = requests.request(\"GET\", url, headers={}, data={})\n",
        "\n",
        "# convert the response to json format (recall from lab 1)\n",
        "data = json.loads(response.text)\n",
        "\n",
        "# TIP: print(data) to see the whole data structure returned, here we grab just the list of NEO's:\n",
        "n_results = data['element_count']\n",
        "neos = data['near_earth_objects'][today]\n",
        "print(f'{n_results} Near Earth Objects found for {today}')\n",
        "pprint(neos[:1])"
      ],
      "metadata": {
        "pycharm": {
          "name": "#%%\n"
        },
        "ExecuteTime": {
          "end_time": "2024-01-04T04:05:43.064157Z",
          "start_time": "2024-01-04T04:05:38.691252Z"
        },
        "id": "vZYx2VfXmxBB",
        "outputId": "30220ecd-5a70-4050-8711-ff79d0cbcd63",
        "colab": {
          "base_uri": "https://localhost:8080/"
        }
      }
    },
    {
      "cell_type": "markdown",
      "source": [
        "Next we extract just the potentially hazerdous asteroids, using a Comp115-style list accumulator *loop*:"
      ],
      "metadata": {
        "collapsed": false,
        "pycharm": {
          "name": "#%% md\n"
        },
        "id": "g7VOkS2PmxBB"
      }
    },
    {
      "cell_type": "code",
      "execution_count": 14,
      "metadata": {
        "id": "JDGbYTySU3BP",
        "ExecuteTime": {
          "end_time": "2024-01-04T04:05:43.065108Z",
          "start_time": "2024-01-04T04:05:43.062239Z"
        },
        "colab": {
          "base_uri": "https://localhost:8080/"
        },
        "outputId": "edf77ed6-38cd-4ee8-8f6f-1ac1abc8b4fa"
      },
      "outputs": [
        {
          "output_type": "stream",
          "name": "stdout",
          "text": [
            "3 potentially hazardous asteroids identified.\n"
          ]
        }
      ],
      "source": [
        "hazards =  []\n",
        "for item in neos:\n",
        "  if item['is_potentially_hazardous_asteroid'] is True:\n",
        "    hazards.append(item)\n",
        "print(f'{len(hazards)} potentially hazardous asteroids identified.')"
      ]
    },
    {
      "cell_type": "markdown",
      "source": [
        "### Fetch Complete Data for One Asteroid\n",
        "\n",
        "Notice that the record for each `neo` is a dictionary with `id` field that uniquely identifies this record in the database.  We can use this `id` to fetch complete orbital and close approach data for the NEO.  For example, this query fetches the complete data set for the first hazardous asteroid...  Notice that the `miss_distance` field contains the distance (in various units) by which the NEO missed an \"orbiting body\".\n"
      ],
      "metadata": {
        "collapsed": false,
        "pycharm": {
          "name": "#%% md\n"
        },
        "id": "Um5gAiVTmxBC"
      }
    },
    {
      "cell_type": "code",
      "execution_count": 6,
      "outputs": [
        {
          "output_type": "error",
          "ename": "NameError",
          "evalue": "name 'hazards' is not defined",
          "traceback": [
            "\u001b[0;31m---------------------------------------------------------------------------\u001b[0m",
            "\u001b[0;31mNameError\u001b[0m                                 Traceback (most recent call last)",
            "\u001b[0;32m<ipython-input-6-1a899f12c033>\u001b[0m in \u001b[0;36m<cell line: 0>\u001b[0;34m()\u001b[0m\n\u001b[0;32m----> 1\u001b[0;31m \u001b[0mid\u001b[0m \u001b[0;34m=\u001b[0m \u001b[0mhazards\u001b[0m\u001b[0;34m[\u001b[0m\u001b[0;36m0\u001b[0m\u001b[0;34m]\u001b[0m\u001b[0;34m[\u001b[0m\u001b[0;34m'id'\u001b[0m\u001b[0;34m]\u001b[0m\u001b[0;34m\u001b[0m\u001b[0;34m\u001b[0m\u001b[0m\n\u001b[0m\u001b[1;32m      2\u001b[0m \u001b[0murl\u001b[0m \u001b[0;34m=\u001b[0m \u001b[0;34mf'https://api.nasa.gov/neo/rest/v1/neo/{id}?api_key={API_KEY}'\u001b[0m\u001b[0;34m\u001b[0m\u001b[0;34m\u001b[0m\u001b[0m\n\u001b[1;32m      3\u001b[0m \u001b[0mresponse\u001b[0m \u001b[0;34m=\u001b[0m \u001b[0mrequests\u001b[0m\u001b[0;34m.\u001b[0m\u001b[0mrequest\u001b[0m\u001b[0;34m(\u001b[0m\u001b[0;34m\"GET\"\u001b[0m\u001b[0;34m,\u001b[0m \u001b[0murl\u001b[0m\u001b[0;34m,\u001b[0m \u001b[0mheaders\u001b[0m\u001b[0;34m=\u001b[0m\u001b[0;34m{\u001b[0m\u001b[0;34m}\u001b[0m\u001b[0;34m,\u001b[0m \u001b[0mdata\u001b[0m\u001b[0;34m=\u001b[0m\u001b[0;34m{\u001b[0m\u001b[0;34m}\u001b[0m\u001b[0;34m)\u001b[0m\u001b[0;34m\u001b[0m\u001b[0;34m\u001b[0m\u001b[0m\n\u001b[1;32m      4\u001b[0m \u001b[0mdata\u001b[0m \u001b[0;34m=\u001b[0m \u001b[0mjson\u001b[0m\u001b[0;34m.\u001b[0m\u001b[0mloads\u001b[0m\u001b[0;34m(\u001b[0m\u001b[0mresponse\u001b[0m\u001b[0;34m.\u001b[0m\u001b[0mtext\u001b[0m\u001b[0;34m)\u001b[0m\u001b[0;34m\u001b[0m\u001b[0;34m\u001b[0m\u001b[0m\n\u001b[1;32m      5\u001b[0m \u001b[0;34m\u001b[0m\u001b[0m\n",
            "\u001b[0;31mNameError\u001b[0m: name 'hazards' is not defined"
          ]
        }
      ],
      "source": [
        "id = hazards[0]['id']\n",
        "url = f'https://api.nasa.gov/neo/rest/v1/neo/{id}?api_key={API_KEY}'\n",
        "response = requests.request(\"GET\", url, headers={}, data={})\n",
        "data = json.loads(response.text)\n",
        "\n",
        "pprint(data)"
      ],
      "metadata": {
        "collapsed": true,
        "pycharm": {
          "name": "#%%\n"
        },
        "ExecuteTime": {
          "end_time": "2024-01-04T04:05:43.787125Z",
          "start_time": "2024-01-04T04:05:43.067936Z"
        },
        "id": "NVRl3l7EmxBC",
        "outputId": "8ebade06-23be-44db-bd1a-3c127f5643b5",
        "colab": {
          "base_uri": "https://localhost:8080/",
          "height": 219
        }
      }
    },
    {
      "cell_type": "markdown",
      "source": [
        "## Exercise 1\n",
        "\n",
        "In the code cell below, **re-write the accumulator loop** that creates the list of hazards as a [list comprehension](https://realpython.com/lessons/list-comprehensions-overview/) that implements a [\"filter\"](https://youtu.be/hUes6y2b--0)\n",
        "Notice how this provides a concise way to \"filter\" items of interest from a larger data set."
      ],
      "metadata": {
        "collapsed": false,
        "pycharm": {
          "name": "#%% md\n"
        },
        "id": "93ns5r8gmxBB"
      }
    },
    {
      "cell_type": "code",
      "execution_count": 21,
      "outputs": [
        {
          "output_type": "error",
          "ename": "KeyError",
          "evalue": "'near_earth_objects'",
          "traceback": [
            "\u001b[0;31m---------------------------------------------------------------------------\u001b[0m",
            "\u001b[0;31mKeyError\u001b[0m                                  Traceback (most recent call last)",
            "\u001b[0;32m<ipython-input-21-eb1e5171e42e>\u001b[0m in \u001b[0;36m<cell line: 0>\u001b[0;34m()\u001b[0m\n\u001b[1;32m      6\u001b[0m \u001b[0mresponse\u001b[0m \u001b[0;34m=\u001b[0m \u001b[0mrequests\u001b[0m\u001b[0;34m.\u001b[0m\u001b[0mget\u001b[0m\u001b[0;34m(\u001b[0m\u001b[0murl\u001b[0m\u001b[0;34m)\u001b[0m\u001b[0;34m\u001b[0m\u001b[0;34m\u001b[0m\u001b[0m\n\u001b[1;32m      7\u001b[0m \u001b[0mdata\u001b[0m \u001b[0;34m=\u001b[0m \u001b[0mresponse\u001b[0m\u001b[0;34m.\u001b[0m\u001b[0mjson\u001b[0m\u001b[0;34m(\u001b[0m\u001b[0;34m)\u001b[0m\u001b[0;34m\u001b[0m\u001b[0;34m\u001b[0m\u001b[0m\n\u001b[0;32m----> 8\u001b[0;31m \u001b[0mneos\u001b[0m \u001b[0;34m=\u001b[0m \u001b[0mdata\u001b[0m\u001b[0;34m[\u001b[0m\u001b[0;34m'near_earth_objects'\u001b[0m\u001b[0;34m]\u001b[0m\u001b[0;34m[\u001b[0m\u001b[0mtoday\u001b[0m\u001b[0;34m]\u001b[0m\u001b[0;34m\u001b[0m\u001b[0;34m\u001b[0m\u001b[0m\n\u001b[0m\u001b[1;32m      9\u001b[0m \u001b[0;34m\u001b[0m\u001b[0m\n\u001b[1;32m     10\u001b[0m \u001b[0;31m# Rewrite the accumulator loop as a list comprehension\u001b[0m\u001b[0;34m\u001b[0m\u001b[0;34m\u001b[0m\u001b[0m\n",
            "\u001b[0;31mKeyError\u001b[0m: 'near_earth_objects'"
          ]
        }
      ],
      "source": [
        "import datetime, json, requests\n",
        "from pprint import pprint\n",
        "API_KEY = 'DEMO_KEY'\n",
        "today = str(datetime.date.today())\n",
        "url = f'https://api.nasa.gov/neo/rest/v1/feed?start_date={today}&end_date={today}&api_key={API_KEY}'\n",
        "response = requests.get(url)\n",
        "data = response.json()\n",
        "neos = data['near_earth_objects'][today]\n",
        "\n",
        "# Rewrite the accumulator loop as a list comprehension\n",
        "hazards = [item for item in neos if item['is_potentially_hazardous_asteroid']]\n",
        "print(f'{len(hazards)} potentially hazardous asteroids identified.')"
      ],
      "metadata": {
        "pycharm": {
          "name": "#%%\n"
        },
        "ExecuteTime": {
          "end_time": "2024-01-04T04:05:43.069849Z",
          "start_time": "2024-01-04T04:05:43.065922Z"
        },
        "id": "ewkwkc8wmxBB",
        "outputId": "3eb26f99-7d2f-4e67-f608-3e6227df2c95",
        "colab": {
          "base_uri": "https://localhost:8080/",
          "height": 219
        }
      }
    },
    {
      "cell_type": "markdown",
      "source": [
        "\n",
        "\n",
        "## Exercise 2\n",
        "\n",
        "In the code cell below, write a python function that takes a list of \"close approach data\" as a parameter,\n",
        "and returns a 2-tuple with the (date, miss km) of the closest approach to Earth in the list (where \"miss km\" is the miss distance in km).\n",
        "\n",
        "Hints:\n",
        "* notice the input is a list of dictionaries.  Each dictionary has a 'close_approach_date\", \"orbiting_body\", and 'miss_distance' field.\n",
        "* we are only interested in the closest approach to \"Earth\"\n",
        "\n",
        "\n",
        "Add at least one unit test to check your work - note the test data only needs dictionaries with the fields your function actually uses.\n"
      ],
      "metadata": {
        "id": "DNRs7ynOYwYk"
      }
    },
    {
      "cell_type": "code",
      "source": [
        "def closest_approach(close_approach_data):\n",
        "    # Filter for Earth approaches and find the minimum distance\n",
        "    earth_approaches = [\n",
        "        (approach.get('close_approach_date', approach.get('close_approach_date_full')),  # Use get to handle missing keys\n",
        "         float(approach['miss_distance']['kilometers']))\n",
        "        for approach in close_approach_data\n",
        "        if approach['orbiting_body'] == 'Earth'\n",
        "    ]\n",
        "    return min(earth_approaches, key=lambda x: x[1])\n",
        "\n",
        "# Unit test for Exercise 2\n",
        "test_data = [\n",
        "    {\n",
        "\n",
        "         'close_approach_date_full': '2023-Jan-09 13:59',\n",
        "                           'epoch_date_close_approach': 1673272740000,\n",
        "                           'miss_distance': {'astronomical': '0.0725378623',\n",
        "                                             'kilometers': '10851509.694433301',\n",
        "                                             'lunar': '28.2172284347',\n",
        "                                             'miles': '6742815.4556135138'},\n",
        "                           'orbiting_body': 'Earth',\n",
        "                           'relative_velocity': {'kilometers_per_hour': '32387.3479203461',\n",
        "                                                 'kilometers_per_second': '8.9964855334',\n",
        "                                                 'miles_per_hour': '20124.2384897284'}},\n",
        "    {\n",
        "        'close_approach_date': '2023-01-10',\n",
        "        'orbiting_body': 'Earth',\n",
        "        'miss_distance': {'kilometers': '5051009.694433301'}\n",
        "    }\n",
        "]\n",
        "\n",
        "result = closest_approach(test_data)\n",
        "print(f\"Closest approach: {result}\")  # Expected: ('2023-01-10', 5051009.694433301)"
      ],
      "metadata": {
        "id": "tiyXTDfnZAd0",
        "ExecuteTime": {
          "end_time": "2024-01-04T04:05:43.790535Z",
          "start_time": "2024-01-04T04:05:43.787064Z"
        },
        "outputId": "346afd0d-571e-46c2-9532-4ce03843e2ac",
        "colab": {
          "base_uri": "https://localhost:8080/"
        }
      },
      "execution_count": 16,
      "outputs": [
        {
          "output_type": "stream",
          "name": "stdout",
          "text": [
            "Closest approach: ('2023-01-10', 5051009.694433301)\n"
          ]
        }
      ]
    },
    {
      "cell_type": "markdown",
      "source": [
        "## Challenge Exercise\n",
        "\n",
        "In the code cell below, write a complete program that:\n",
        " 1. fetches the list of NEO's for this week.\n",
        " 2. for each NEO, fetch it's complete orbital data and determine its closest approach to Earth\n",
        " 3. identify which NEO from this week's data makes the closet approach to earth\n",
        " 4. print a nice message with information about the NEO, which it will approach the Earth, and how close it will come.\n",
        "\n",
        "Hints:\n",
        "* you'll need the start and end date - end date is today, see if you can use a [`timedelta`](https://docs.python.org/3/library/datetime.html#timedelta-objects) object to ge the start date (you can do basic \"date math\" with `timedelta` and `date` objects!)\n",
        "* you may need to modify the function we wrote in Ex. 2 to return a triple with the NEO's id included;\n",
        "* lots of opportunity here for more practice with list comprehensions\n"
      ],
      "metadata": {
        "collapsed": false,
        "id": "BrVVSFCnmxBC"
      }
    },
    {
      "cell_type": "code",
      "source": [
        "import datetime\n",
        "import requests\n",
        "\n",
        "API_KEY = 'DEMO_KEY'\n",
        "\n",
        "# Calculate the start and end dates for this week\n",
        "today = datetime.date.today()\n",
        "start_date = today - datetime.timedelta(days=7)\n",
        "end_date = today\n",
        "\n",
        "# Fetch NEO data for the week\n",
        "url = f'https://api.nasa.gov/neo/rest/v1/feed?start_date={start_date}&end_date={end_date}&api_key={API_KEY}'\n",
        "response = requests.get(url)\n",
        "\n",
        "if response.status_code == 200:  # Check if the API call was successful\n",
        "    data = response.json()\n",
        "\n",
        "    # Initialize variables to track the closest NEO\n",
        "    closest_neo = None\n",
        "    closest_distance = float('inf')\n",
        "\n",
        "    # Loop through the dates and NEOs\n",
        "    for date in data['near_earth_objects']:\n",
        "        for neo in data['near_earth_objects'][date]:\n",
        "            # Loop through close approach data\n",
        "            for approach in neo.get('close_approach_data', []):\n",
        "                if approach.get('orbiting_body') == 'Earth':\n",
        "                    distance = float(approach['miss_distance']['kilometers'])\n",
        "                    if distance < closest_distance:\n",
        "                        closest_distance = distance\n",
        "                        closest_neo = {\n",
        "                            'name': neo['name'],\n",
        "                            'date': approach['close_approach_date'],\n",
        "                            'distance': distance\n",
        "                        }\n",
        "\n",
        "    # Print the result\n",
        "    if closest_neo:\n",
        "        print(\n",
        "            f\"The closest NEO this week is {closest_neo['name']} on {closest_neo['date']} \"\n",
        "            f\"at a distance of {closest_neo['distance']:.2f} km.\"\n",
        "        )\n",
        "    else:\n",
        "        print(\"No close approaches to Earth this week.\")\n",
        "else:\n",
        "    print(f\"Failed to fetch data from NASA API. Status code: {response.status_code}\")\n",
        "\n"
      ],
      "metadata": {
        "id": "Ds1YevErlzCe",
        "pycharm": {
          "name": "#%%\n"
        },
        "ExecuteTime": {
          "end_time": "2024-01-04T04:05:43.790766Z",
          "start_time": "2024-01-04T04:05:43.789211Z"
        },
        "outputId": "c72e90ed-3096-41b7-8d1e-a63a634ad389",
        "colab": {
          "base_uri": "https://localhost:8080/"
        }
      },
      "execution_count": 20,
      "outputs": [
        {
          "output_type": "stream",
          "name": "stdout",
          "text": [
            "Failed to fetch data from NASA API. Status code: 429\n"
          ]
        }
      ]
    }
  ]
}